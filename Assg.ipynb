{
 "cells": [
  {
   "cell_type": "code",
   "execution_count": 2,
   "metadata": {
    "collapsed": true
   },
   "outputs": [],
   "source": [
    "import os\n",
    "import re\n",
    "import random\n",
    "import matplotlib.pyplot as plt\n",
    "from collections import Counter"
   ]
  },
  {
   "cell_type": "code",
   "execution_count": 3,
   "metadata": {
    "collapsed": true
   },
   "outputs": [],
   "source": [
    "def ReadFile():\n",
    "    path_to_file = os.path.realpath('.')\n",
    "    n=0\n",
    "    with open(os.path.join(path_to_file, 'simple_english_wiki.txt'), 'r') as file:\n",
    "        for line in file:\n",
    "            for char in line:\n",
    "                if re.findall('([A-Z a-z0-9])', char):\n",
    "                    n += 1\n",
    "    return n"
   ]
  },
  {
   "cell_type": "code",
   "execution_count": 4,
   "metadata": {
    "collapsed": true
   },
   "outputs": [],
   "source": [
    "# Count the total number of words in the file for the probablity of words length\n",
    "def countWords(file):\n",
    "   path_to_file = os.path.realpath('.')\n",
    "   total_words = 0\n",
    "   words = []\n",
    "   with open(os.path.join(path_to_file, file), 'r') as file:\n",
    "       for line in file:\n",
    "          total_words += len(re.findall(r'\\w+', line)) # total number of words\n",
    "          words += re.findall(r'\\w+', line) # words each time\n",
    "   return words, total_words # returning the words and total number of words\n",
    "\n",
    "# calculate the probability of Characters\n",
    "def probabilitiyCharacters():\n",
    "    occurrences = {}\n",
    "    d = {}\n",
    "    alpha = list('0123456789abcdefghijklmnopqrstuvwxyz') # list to get the probability for these characters\n",
    "    whole_file = open('simple_english_wiki.txt', 'r+').read() # read the file\n",
    "    low_letters = whole_file.lower() # convert it to lower cast as described in assignemnt\n",
    "    letters= list(low_letters) # make a list of all the characters\n",
    "    n = len(letters) # total number of characters\n",
    "    f = float(n)\n",
    "    for x in alpha:\n",
    "        occurrences[x] = letters.count(x) # number of occurances of character in list\n",
    "        d[x] = (occurrences[x]) / f # probablity of characters\n",
    "    for x in occurrences:\n",
    "        print x, occurrences[x], d[x]\n",
    "    return d"
   ]
  },
  {
   "cell_type": "code",
   "execution_count": 5,
   "metadata": {
    "collapsed": true
   },
   "outputs": [],
   "source": [
    "# Calculate the probability of Words length which we need to draw later and also for generating the text file\n",
    "def probabilityWordsLength(file_name):\n",
    "    #file_name = 'simple_english_wiki.txt'\n",
    "    occurrences = {}\n",
    "    d = {}\n",
    "    whole_file = open(file_name, 'r+').read()\n",
    "    low_letters = whole_file.lower()\n",
    "    listz = list(map(len, low_letters.split()))\n",
    "    words, total = countWords(file_name)\n",
    "    n = float(total)\n",
    "    f = Counter(listz)\n",
    "    for key, value in f.items():\n",
    "        occurrences[key] = value\n",
    "        d[key] = value/n\n",
    "    for x in occurrences:\n",
    "        print x, occurrences[x], d[x]\n",
    "    return d"
   ]
  },
  {
   "cell_type": "code",
   "execution_count": 6,
   "metadata": {
    "collapsed": true
   },
   "outputs": [],
   "source": [
    "\n",
    "# Generate the text using the probability of characters and probability of words length\n",
    "def makeGibberish(prob_c,prob_w):\n",
    "    i = 0\n",
    "    j = 0\n",
    "    write_words = ''\n",
    "    numd = 5000 #Total number of words mentioned in Assignment\n",
    "    while i < numd: # loop for generating the 5000 words\n",
    "        new_word = ''\n",
    "        i += 1\n",
    "        rand = random.random() # random number to select the word length from probablity\n",
    "        key, value = min(prob_w.items(), key=lambda (_, v): abs(v - rand)) # find the word length that is nearest to the random number\n",
    "        j = 0\n",
    "        while j < key: # loop for generating word length equal to the word length found from the previous step\n",
    "            j +=1\n",
    "            randi = random.random()# random number to select the character from probablity\n",
    "            keyi, valuei = min(prob_c.items(), key=lambda (_, v): abs(v - randi)) # find the character that is nearest to the random number\n",
    "            new_word += keyi # add the character to the word\n",
    "        write_words += ' ' + new_word # add the word to the whole text\n",
    "    return write_words\n"
   ]
  },
  {
   "cell_type": "code",
   "execution_count": 7,
   "metadata": {},
   "outputs": [
    {
     "name": "stdout",
     "output_type": "stream",
     "text": [
      "1 5 0.00326583932071\n",
      "0 12 0.00783801436969\n",
      "3 2 0.00130633572828\n",
      "2 6 0.00391900718485\n",
      "5 3 0.00195950359242\n",
      "4 1 0.000653167864141\n",
      "7 1 0.000653167864141\n",
      "6 1 0.000653167864141\n",
      "9 1 0.000653167864141\n",
      "8 1 0.000653167864141\n",
      "a 104 0.0679294578707\n",
      "c 33 0.0215545395167\n",
      "b 9 0.00587851077727\n",
      "e 169 0.11038536904\n",
      "d 54 0.0352710646636\n",
      "g 33 0.0215545395167\n",
      "f 11 0.00718484650555\n",
      "i 129 0.0842586544742\n",
      "h 68 0.0444154147616\n",
      "k 19 0.0124101894187\n",
      "j 1 0.000653167864141\n",
      "m 32 0.0209013716525\n",
      "l 70 0.0457217504899\n",
      "o 51 0.0333115610712\n",
      "n 84 0.0548661005879\n",
      "q 0 0.0\n",
      "p 38 0.0248203788374\n",
      "s 94 0.0613977792293\n",
      "r 64 0.041802743305\n",
      "u 22 0.0143696930111\n",
      "t 85 0.055519268452\n",
      "w 29 0.0189418680601\n",
      "v 5 0.00326583932071\n",
      "y 15 0.00979751796212\n",
      "x 2 0.00130633572828\n",
      "z 0 0.0\n",
      "1 3 0.0121457489879\n",
      "2 30 0.121457489879\n",
      "3 44 0.178137651822\n",
      "4 34 0.137651821862\n",
      "5 27 0.109311740891\n",
      "6 20 0.080971659919\n",
      "7 34 0.137651821862\n",
      "8 18 0.0728744939271\n",
      "9 19 0.0769230769231\n",
      "10 12 0.0485829959514\n",
      "13 1 0.00404858299595\n",
      "16 1 0.00404858299595\n",
      "1 106 0.0212\n",
      "2 82 0.0164\n",
      "3 4176 0.8352\n",
      "4 145 0.029\n",
      "5 107 0.0214\n",
      "6 82 0.0164\n",
      "8 91 0.0182\n",
      "9 16 0.0032\n",
      "10 159 0.0318\n",
      "13 36 0.0072\n"
     ]
    },
    {
     "data": {
      "image/png": "[encoded data removed]",
      "text/plain": [
       "<matplotlib.figure.Figure at 0x7eff702ee910>"
      ]
     },
     "metadata": {},
     "output_type": "display_data"
    },
    {
     "name": "stdout",
     "output_type": "stream",
     "text": [
      "1 3 0.0121457489879\n",
      "2 30 0.121457489879\n",
      "3 44 0.178137651822\n",
      "4 34 0.137651821862\n",
      "5 27 0.109311740891\n",
      "6 20 0.080971659919\n",
      "7 34 0.137651821862\n",
      "8 18 0.0728744939271\n",
      "9 19 0.0769230769231\n",
      "10 12 0.0485829959514\n",
      "13 1 0.00404858299595\n",
      "16 1 0.00404858299595\n"
     ]
    },
    {
     "data": {
      "image/png": "[encoded data removed]",
      "text/plain": [
       "<matplotlib.figure.Figure at 0x7eff668a1710>"
      ]
     },
     "metadata": {},
     "output_type": "display_data"
    }
   ],
   "source": [
    "\n",
    "# save file\n",
    "def saveFile(words, file_name):\n",
    "   path_to_file = os.path.realpath('.')\n",
    "   with open(os.path.join(path_to_file, file_name+'.txt'), 'w') as file_to_write:\n",
    "       file_to_write.write(words)\n",
    "       file_to_write.close()\n",
    "\n",
    "# Task 1 from assignment\n",
    "def task1():\n",
    "    #b , c = countWords('simple_english_wiki.txt')\n",
    "    prob_c = probabilitiyCharacters()\n",
    "    prob_w = probabilityWordsLength('simple_english_wiki.txt')\n",
    "    generated_text = makeGibberish(prob_c,prob_w)\n",
    "    saveFile(generated_text,\"new_generated_text\")\n",
    "\n",
    "# Task 2 from assignment\n",
    "def task2():\n",
    "    probability_words_length_generated = probabilityWordsLength(\"new_generated_text.txt\")\n",
    "    plt.bar(probability_words_length_generated.keys(), probability_words_length_generated.values(), color='b')\n",
    "    plt.show()\n",
    "    probability_words_length_original = probabilityWordsLength(\"simple_english_wiki.txt\")\n",
    "    plt.bar(probability_words_length_original.keys(), probability_words_length_original.values(), color='b')\n",
    "    plt.show()\n",
    "\n",
    "\n",
    "def main():\n",
    "    task1()\n",
    "    task2()\n",
    "\n",
    "\n",
    "if __name__ == \"__main__\":\n",
    "   main()\n"
   ]
  }
 ],
 "metadata": {
  "kernelspec": {
   "display_name": "Python 2",
   "language": "python",
   "name": "python2"
  },
  "language_info": {
   "codemirror_mode": {
    "name": "ipython",
    "version": 2
   },
   "file_extension": ".py",
   "mimetype": "text/x-python",
   "name": "python",
   "nbconvert_exporter": "python",
   "pygments_lexer": "ipython2",
   "version": "2.7.14"
  }
 },
 "nbformat": 4,
 "nbformat_minor": 2
}
